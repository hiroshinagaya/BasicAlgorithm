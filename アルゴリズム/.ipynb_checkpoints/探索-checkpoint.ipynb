{
 "cells": [
  {
   "cell_type": "markdown",
   "metadata": {},
   "source": [
    "### 線形探索\n",
    "順序付けられたデータの集合に対して、順に目的のデータを探す探索"
   ]
  },
  {
   "cell_type": "code",
   "execution_count": 3,
   "metadata": {},
   "outputs": [],
   "source": [
    "def LinearSearch(list1, terget):\n",
    "    for l in list1:\n",
    "        if l == terget:\n",
    "            return True\n",
    "    return False"
   ]
  },
  {
   "cell_type": "code",
   "execution_count": 4,
   "metadata": {},
   "outputs": [
    {
     "name": "stdout",
     "output_type": "stream",
     "text": [
      "True\n",
      "True\n",
      "True\n"
     ]
    }
   ],
   "source": [
    "list1 = [3, 1, 5, 8, 10, 4]\n",
    "print(LinearSearch(list1, 5) == True)\n",
    "print(LinearSearch(list1, 3) == True)\n",
    "print(LinearSearch(list1, 7) == False)"
   ]
  },
  {
   "attachments": {},
   "cell_type": "markdown",
   "metadata": {},
   "source": [
    "### 二分探索\n",
    "ソート済みのデータの集合に対する探索。真ん中のデータ（[n/2]番目）と探しているデータを比較"
   ]
  },
  {
   "cell_type": "code",
   "execution_count": 19,
   "metadata": {},
   "outputs": [],
   "source": [
    "def BinarySearch(list1, terget):\n",
    "    left, right = 1, len(list1)\n",
    "    while left < right:\n",
    "        mid = (left + right) // 2\n",
    "        if list1[mid] == terget:\n",
    "            return True\n",
    "        elif list1[mid] <  terget:\n",
    "            left = mid + 1\n",
    "        else:\n",
    "            right = mid - 1\n",
    "    return False"
   ]
  },
  {
   "cell_type": "code",
   "execution_count": 20,
   "metadata": {},
   "outputs": [
    {
     "name": "stdout",
     "output_type": "stream",
     "text": [
      "True\n",
      "True\n",
      "True\n"
     ]
    }
   ],
   "source": [
    "list1 = [1, 3, 5, 7, 9, 11, 13, 15, 17, 19]\n",
    "print(BinarySearch(list1, 0) == False)\n",
    "print(BinarySearch(list1, 7) == True)\n",
    "print(BinarySearch(list1, 20) == False)"
   ]
  },
  {
   "attachments": {},
   "cell_type": "markdown",
   "metadata": {},
   "source": [
    "### 幅優先探索（BFS:  breadth first search）\n",
    "始点となるノードから隣接するノードを探索し、そこからさらに隣接するノードに対して始点に近い順に探索を繰り返して目的のノードを見つける。 幅優先探索は全ノードを網羅的に探索していくため、しらみつぶしに調べていく探索アルゴリズム。実装にキューを用いる\n",
    "\n",
    "### キュー（queue）\n",
    "先に格納したデータから順に取り出す、先入れ先出し（First In First Out: FIFO）型のデータ構造。キューへデータを格納することをenqueue、取り出すことをdequeueという。"
   ]
  },
  {
   "cell_type": "code",
   "execution_count": 32,
   "metadata": {},
   "outputs": [],
   "source": [
    "def BFS(list_adjlist, node=0):\n",
    "    list_nodes = []\n",
    "    # queueとして扱う\n",
    "    list1 = []\n",
    "    list1.append(node)\n",
    "    while list1:\n",
    "        val = list1.pop(0)\n",
    "        list_nodes.append(val)\n",
    "        list1 += list_adjlist[val]\n",
    "    return list_nodes"
   ]
  },
  {
   "cell_type": "code",
   "execution_count": 33,
   "metadata": {},
   "outputs": [
    {
     "name": "stdout",
     "output_type": "stream",
     "text": [
      "[0, 1, 2, 3, 4, 5, 6, 7, 8, 9, 10, 11, 12, 13]\n"
     ]
    }
   ],
   "source": [
    "list1=[[1,2,3], [4, 5], [6, 7], [], [8, 9, 10], [11], [12, 13], [], [], [], [], [], [], []]\n",
    "list2=BFS(list1);\n",
    "print(list2)"
   ]
  },
  {
   "attachments": {},
   "cell_type": "markdown",
   "metadata": {},
   "source": [
    "### 深さ優先探索（DFS:  depth first search）\n",
    "木やグラフを探索するためのアルゴリズム。始点から始まり、始点から遠ざかる順に、奥深くまでバックトラックするまで掘り下げていく探索アルゴリズム。状態の遷移が分岐するような処理の実装に使う。実装にスタックを用いる\n",
    "\n",
    "### スタック（stuck）\n",
    "...キューとは逆に、後に入れたデータを先に取り出す後入れ先出し（Last In First Out: LIFO）型のデータ構造。スタックへデータを格納することをpush、取り出すことをpopという。\n"
   ]
  },
  {
   "cell_type": "code",
   "execution_count": 36,
   "metadata": {},
   "outputs": [],
   "source": [
    "# スタックを使う場合の実装\n",
    "def DFS(list_adjlist, node=0):\n",
    "    list_nodes = []\n",
    "    # stuckとして扱う\n",
    "    list1 = []\n",
    "    list1.append(node)\n",
    "    while list1:\n",
    "        val = list1.pop(-1)\n",
    "        list_nodes.append(val)\n",
    "        list1 += list_adjlist[val]\n",
    "    return list_nodes\n",
    "\n",
    "#再帰を使用する場合\n",
    "def DFS_Re(list_adjlist, node=0, next_list=[], list_nodes=[]):\n",
    "    list_nodes.append(node)\n",
    "    next_list = list_adjlist[node] + next_list\n",
    "    for n in next_list:\n",
    "        if n not in list_nodes:\n",
    "            list_nodes = DFS_Re(list_adjlist, n, next_list, list_nodes)\n",
    "    return list_nodes"
   ]
  },
  {
   "cell_type": "code",
   "execution_count": 37,
   "metadata": {},
   "outputs": [
    {
     "name": "stdout",
     "output_type": "stream",
     "text": [
      "[0, 1, 4, 8, 9, 10, 5, 11, 2, 6, 12, 13, 7, 3]\n"
     ]
    }
   ],
   "source": [
    "list1=[[1,2,3], [4, 5], [6, 7], [], [8, 9, 10], [11], [12, 13], [], [], [], [], [], [], []]\n",
    "list2=DFS_Re(list1);\n",
    "print(list2)"
   ]
  }
 ],
 "metadata": {
  "kernelspec": {
   "display_name": "Python 3",
   "language": "python",
   "name": "python3"
  },
  "language_info": {
   "codemirror_mode": {
    "name": "ipython",
    "version": 3
   },
   "file_extension": ".py",
   "mimetype": "text/x-python",
   "name": "python",
   "nbconvert_exporter": "python",
   "pygments_lexer": "ipython3",
   "version": "3.7.4"
  }
 },
 "nbformat": 4,
 "nbformat_minor": 2
}
