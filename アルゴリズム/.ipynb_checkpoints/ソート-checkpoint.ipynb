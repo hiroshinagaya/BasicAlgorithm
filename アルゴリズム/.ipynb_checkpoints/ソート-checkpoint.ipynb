{
 "cells": [
  {
   "cell_type": "markdown",
   "metadata": {},
   "source": [
    "### マージソート\n",
    "配列の要素を繰り返し分割し、分割によって少なくなった要素間で並び替えと併合（マージ）を繰り返して整列を行う。"
   ]
  },
  {
   "cell_type": "code",
   "execution_count": null,
   "metadata": {},
   "outputs": [],
   "source": []
  },
  {
   "cell_type": "markdown",
   "metadata": {},
   "source": [
    "### クイックソート\n",
    "データをピボットという基準値よりも小さい値のグループと大きい値のグループに分割し、さらにそれらのグループ内で新たなピボットを選んで分割を繰り替えす。こうした値の大小によるグループ化を繰り返すことで整列を行う"
   ]
  },
  {
   "cell_type": "code",
   "execution_count": null,
   "metadata": {},
   "outputs": [],
   "source": []
  },
  {
   "cell_type": "markdown",
   "metadata": {},
   "source": [
    "### バケットソート\n",
    "数列の最小値をSmin、最大値をSmaxとする。あらかじめ、Smin～Smaxまでの（Smax - Smin）種類の値の入れ物（バケット）を用意しておく。データ列を走査して対応するバケットに格納し、整列したい順序に従ってバケツから値を取り出せばソートできる。"
   ]
  },
  {
   "cell_type": "code",
   "execution_count": null,
   "metadata": {},
   "outputs": [],
   "source": []
  },
  {
   "cell_type": "code",
   "execution_count": null,
   "metadata": {},
   "outputs": [],
   "source": []
  }
 ],
 "metadata": {
  "kernelspec": {
   "display_name": "Python 3",
   "language": "python",
   "name": "python3"
  },
  "language_info": {
   "codemirror_mode": {
    "name": "ipython",
    "version": 3
   },
   "file_extension": ".py",
   "mimetype": "text/x-python",
   "name": "python",
   "nbconvert_exporter": "python",
   "pygments_lexer": "ipython3",
   "version": "3.7.4"
  }
 },
 "nbformat": 4,
 "nbformat_minor": 2
}
