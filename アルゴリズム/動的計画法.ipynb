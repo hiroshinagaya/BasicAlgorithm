{
 "cells": [
  {
   "cell_type": "markdown",
   "metadata": {},
   "source": [
    "### 動的計画法\n",
    "部分問題の解を統合することによって問題を解く方法。部分問題の一部が一致しているとき（すなわち、部分問題が「部分部分問題」を共有しているとき）に適用される。各部分部分問題を一度計算して保存することで無駄な計算を減らすことができる。"
   ]
  },
  {
   "cell_type": "markdown",
   "metadata": {},
   "source": [
    "### ダイクストラ法による最短経路長の算出\n"
   ]
  },
  {
   "cell_type": "code",
   "execution_count": 12,
   "metadata": {},
   "outputs": [],
   "source": [
    "import heapq\n",
    "import numpy as np\n",
    "\n",
    "def Dijkstra(list_adjlist, initnode):\n",
    "    Distance = [-1] * len(list_adjlist)\n",
    "    # 始点の距離は0\n",
    "    Distance[initnode] = 0\n",
    "    Course = [-1] * len(list_adjlist)\n",
    "    list_check = [False] * len(list_adjlist)\n",
    "    # 暫定最短距離とその点の名前のペアをヒープに格納する\n",
    "    list_pairs = []\n",
    "    heapq.heappush(list_pairs, (0, initnode))\n",
    "    # ヒープが空になるまで\n",
    "    while list_pairs:\n",
    "        pair_shortest = heapq.heappop(list_pairs)\n",
    "        for next in list_adjlist[pair_shortest[1]]:\n",
    "            if list_check[next[0]]:\n",
    "                continue\n",
    "            if (Distance[next[0]] > pair_shortest[0] + next[1]) or (Distance[next[0]] == -1):\n",
    "                Distance[next[0]] = pair_shortest[0] + next[1]\n",
    "                Course[next[0]] = pair_shortest[1]\n",
    "                heapq.heappush(list_pairs, (pair_shortest[0] + next[1], next[0]))\n",
    "                list_check[pair_shortest[1]] = True\n",
    "    return Distance, Course"
   ]
  },
  {
   "cell_type": "code",
   "execution_count": 13,
   "metadata": {},
   "outputs": [
    {
     "name": "stdout",
     "output_type": "stream",
     "text": [
      "([0, 20, 9, 8, 34, 16, 18, 38], [-1, 0, 0, 0, 5, 2, 3, 5])\n"
     ]
    }
   ],
   "source": [
    "# 無向グラフ\n",
    "list_adjlist1 = [[[1,20],[2,9],[3,8]],[[0,20],[4,15]],[[0,9],[5,7],[3,6]],[[0,8],[2,6],[5,15],[6,10]],[[1,15],[5,18]],[[4,18],[2,7],[3,15],[7,22]],[[3,10]],[[5,22]]]\n",
    "# 点0を始点としたときの実行結果\n",
    "print(Dijkstra(list_adjlist1, 0))"
   ]
  },
  {
   "cell_type": "markdown",
   "metadata": {},
   "source": [
    "### プリムの方法による全域木の作成\n",
    "\n",
    "### 全域木\n",
    "\n",
    "### 最小全域木\n",
    "\n"
   ]
  },
  {
   "cell_type": "code",
   "execution_count": null,
   "metadata": {},
   "outputs": [],
   "source": []
  }
 ],
 "metadata": {
  "kernelspec": {
   "display_name": "Python 3",
   "language": "python",
   "name": "python3"
  },
  "language_info": {
   "codemirror_mode": {
    "name": "ipython",
    "version": 3
   },
   "file_extension": ".py",
   "mimetype": "text/x-python",
   "name": "python",
   "nbconvert_exporter": "python",
   "pygments_lexer": "ipython3",
   "version": "3.7.4"
  }
 },
 "nbformat": 4,
 "nbformat_minor": 2
}
